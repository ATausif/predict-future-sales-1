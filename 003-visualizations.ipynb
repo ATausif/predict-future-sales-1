{
 "cells": [
  {
   "cell_type": "markdown",
   "metadata": {},
   "source": [
    "# Load Data"
   ]
  },
  {
   "cell_type": "code",
   "execution_count": 1,
   "metadata": {
    "collapsed": true
   },
   "outputs": [],
   "source": [
    "import pandas as pd"
   ]
  },
  {
   "cell_type": "code",
   "execution_count": 2,
   "metadata": {
    "collapsed": true
   },
   "outputs": [],
   "source": [
    "train = pd.read_csv(\"data/v1/train.csv\")"
   ]
  },
  {
   "cell_type": "markdown",
   "metadata": {},
   "source": [
    "# Explore Individual Features"
   ]
  },
  {
   "cell_type": "markdown",
   "metadata": {},
   "source": [
    "# Histograms"
   ]
  },
  {
   "cell_type": "code",
   "execution_count": 3,
   "metadata": {
    "collapsed": true
   },
   "outputs": [],
   "source": [
    "import matplotlib.pyplot as plt"
   ]
  },
  {
   "cell_type": "code",
   "execution_count": 4,
   "metadata": {
    "collapsed": true
   },
   "outputs": [],
   "source": [
    "%matplotlib inline"
   ]
  },
  {
   "cell_type": "code",
   "execution_count": 5,
   "metadata": {
    "collapsed": true
   },
   "outputs": [],
   "source": [
    "import numpy as np"
   ]
  },
  {
   "cell_type": "code",
   "execution_count": 6,
   "metadata": {},
   "outputs": [
    {
     "data": {
      "text/html": [
       "<div>\n",
       "<style>\n",
       "    .dataframe thead tr:only-child th {\n",
       "        text-align: right;\n",
       "    }\n",
       "\n",
       "    .dataframe thead th {\n",
       "        text-align: left;\n",
       "    }\n",
       "\n",
       "    .dataframe tbody tr th {\n",
       "        vertical-align: top;\n",
       "    }\n",
       "</style>\n",
       "<table border=\"1\" class=\"dataframe\">\n",
       "  <thead>\n",
       "    <tr style=\"text-align: right;\">\n",
       "      <th></th>\n",
       "      <th>0</th>\n",
       "      <th>1</th>\n",
       "      <th>2</th>\n",
       "      <th>3</th>\n",
       "      <th>4</th>\n",
       "    </tr>\n",
       "  </thead>\n",
       "  <tbody>\n",
       "    <tr>\n",
       "      <th>Unnamed: 0</th>\n",
       "      <td>49800</td>\n",
       "      <td>29784</td>\n",
       "      <td>35476</td>\n",
       "      <td>8330</td>\n",
       "      <td>57384</td>\n",
       "    </tr>\n",
       "    <tr>\n",
       "      <th>date</th>\n",
       "      <td>01.01.2013</td>\n",
       "      <td>01.01.2013</td>\n",
       "      <td>01.01.2013</td>\n",
       "      <td>01.01.2013</td>\n",
       "      <td>01.01.2013</td>\n",
       "    </tr>\n",
       "    <tr>\n",
       "      <th>date_block_num</th>\n",
       "      <td>0</td>\n",
       "      <td>0</td>\n",
       "      <td>0</td>\n",
       "      <td>0</td>\n",
       "      <td>0</td>\n",
       "    </tr>\n",
       "    <tr>\n",
       "      <th>shop_id</th>\n",
       "      <td>18</td>\n",
       "      <td>27</td>\n",
       "      <td>7</td>\n",
       "      <td>19</td>\n",
       "      <td>14</td>\n",
       "    </tr>\n",
       "    <tr>\n",
       "      <th>item_id</th>\n",
       "      <td>5823</td>\n",
       "      <td>5573</td>\n",
       "      <td>1006</td>\n",
       "      <td>17707</td>\n",
       "      <td>19548</td>\n",
       "    </tr>\n",
       "    <tr>\n",
       "      <th>item_price</th>\n",
       "      <td>2500</td>\n",
       "      <td>849</td>\n",
       "      <td>399</td>\n",
       "      <td>899</td>\n",
       "      <td>149</td>\n",
       "    </tr>\n",
       "    <tr>\n",
       "      <th>item_cnt_day</th>\n",
       "      <td>1</td>\n",
       "      <td>1</td>\n",
       "      <td>1</td>\n",
       "      <td>1</td>\n",
       "      <td>1</td>\n",
       "    </tr>\n",
       "    <tr>\n",
       "      <th>datetime</th>\n",
       "      <td>2013-01-01</td>\n",
       "      <td>2013-01-01</td>\n",
       "      <td>2013-01-01</td>\n",
       "      <td>2013-01-01</td>\n",
       "      <td>2013-01-01</td>\n",
       "    </tr>\n",
       "    <tr>\n",
       "      <th>year</th>\n",
       "      <td>2013</td>\n",
       "      <td>2013</td>\n",
       "      <td>2013</td>\n",
       "      <td>2013</td>\n",
       "      <td>2013</td>\n",
       "    </tr>\n",
       "    <tr>\n",
       "      <th>month</th>\n",
       "      <td>1</td>\n",
       "      <td>1</td>\n",
       "      <td>1</td>\n",
       "      <td>1</td>\n",
       "      <td>1</td>\n",
       "    </tr>\n",
       "    <tr>\n",
       "      <th>day</th>\n",
       "      <td>1</td>\n",
       "      <td>1</td>\n",
       "      <td>1</td>\n",
       "      <td>1</td>\n",
       "      <td>1</td>\n",
       "    </tr>\n",
       "  </tbody>\n",
       "</table>\n",
       "</div>"
      ],
      "text/plain": [
       "                         0           1           2           3           4\n",
       "Unnamed: 0           49800       29784       35476        8330       57384\n",
       "date            01.01.2013  01.01.2013  01.01.2013  01.01.2013  01.01.2013\n",
       "date_block_num           0           0           0           0           0\n",
       "shop_id                 18          27           7          19          14\n",
       "item_id               5823        5573        1006       17707       19548\n",
       "item_price            2500         849         399         899         149\n",
       "item_cnt_day             1           1           1           1           1\n",
       "datetime        2013-01-01  2013-01-01  2013-01-01  2013-01-01  2013-01-01\n",
       "year                  2013        2013        2013        2013        2013\n",
       "month                    1           1           1           1           1\n",
       "day                      1           1           1           1           1"
      ]
     },
     "execution_count": 6,
     "metadata": {},
     "output_type": "execute_result"
    }
   ],
   "source": [
    "train.head().T"
   ]
  },
  {
   "cell_type": "code",
   "execution_count": 7,
   "metadata": {},
   "outputs": [
    {
     "data": {
      "text/plain": [
       "Unnamed: 0          int64\n",
       "date               object\n",
       "date_block_num      int64\n",
       "shop_id             int64\n",
       "item_id             int64\n",
       "item_price        float64\n",
       "item_cnt_day      float64\n",
       "datetime           object\n",
       "year                int64\n",
       "month               int64\n",
       "day                 int64\n",
       "dtype: object"
      ]
     },
     "execution_count": 7,
     "metadata": {},
     "output_type": "execute_result"
    }
   ],
   "source": [
    "train.dtypes"
   ]
  },
  {
   "cell_type": "markdown",
   "metadata": {},
   "source": [
    "## item_price"
   ]
  },
  {
   "cell_type": "code",
   "execution_count": 8,
   "metadata": {},
   "outputs": [
    {
     "data": {
      "text/plain": [
       "(array([  2.93563200e+06,   2.16000000e+02,   0.00000000e+00,\n",
       "          0.00000000e+00,   0.00000000e+00,   0.00000000e+00,\n",
       "          0.00000000e+00,   0.00000000e+00,   0.00000000e+00,\n",
       "          1.00000000e+00]),\n",
       " array([ -1.00000000e+00,   3.07971000e+04,   6.15952000e+04,\n",
       "          9.23933000e+04,   1.23191400e+05,   1.53989500e+05,\n",
       "          1.84787600e+05,   2.15585700e+05,   2.46383800e+05,\n",
       "          2.77181900e+05,   3.07980000e+05]),\n",
       " <a list of 10 Patch objects>)"
      ]
     },
     "execution_count": 8,
     "metadata": {},
     "output_type": "execute_result"
    },
    {
     "data": {
      "image/png": "[encoded data removed]",
      "text/plain": [
       "<matplotlib.figure.Figure at 0x7f6b2e3cd358>"
      ]
     },
     "metadata": {},
     "output_type": "display_data"
    }
   ],
   "source": [
    "plt.hist(train.item_price)"
   ]
  },
  {
   "cell_type": "code",
   "execution_count": 9,
   "metadata": {},
   "outputs": [
    {
     "data": {
      "text/plain": [
       "(array([       0.,   659596.,  1417161.,   382253.,   210048.,   119074.,\n",
       "           68688.,    26220.,    10520.,     8479.]),\n",
       " array([-1000.,  -400.,   200.,   800.,  1400.,  2000.,  2600.,  3200.,\n",
       "         3800.,  4400.,  5000.]),\n",
       " <a list of 10 Patch objects>)"
      ]
     },
     "execution_count": 9,
     "metadata": {},
     "output_type": "execute_result"
    },
    {
     "data": {
      "image/png": "[encoded data removed]",
      "text/plain": [
       "<matplotlib.figure.Figure at 0x7f6b2bcaf3c8>"
      ]
     },
     "metadata": {},
     "output_type": "display_data"
    }
   ],
   "source": [
    "plt.hist(train.item_price, range=(-1000, 5000))"
   ]
  },
  {
   "cell_type": "code",
   "execution_count": 10,
   "metadata": {},
   "outputs": [
    {
     "data": {
      "text/plain": [
       "482092   -1.0\n",
       "Name: item_price, dtype: float64"
      ]
     },
     "execution_count": 10,
     "metadata": {},
     "output_type": "execute_result"
    }
   ],
   "source": [
    "# be careful! there must be negative values\n",
    "train[train.item_price < 0].item_price"
   ]
  },
  {
   "cell_type": "code",
   "execution_count": 11,
   "metadata": {},
   "outputs": [
    {
     "data": {
      "text/plain": [
       "(array([  2.93700000e+03,   1.72200000e+03,   3.13630000e+04,\n",
       "          1.44140000e+04,   1.34181000e+05,   1.69456700e+06,\n",
       "          9.66917000e+05,   7.79640000e+04,   1.17830000e+04,\n",
       "          1.00000000e+00]),\n",
       " array([ -2.65926004,  -1.12955502,   0.40015   ,   1.92985501,\n",
       "          3.45956003,   4.98926504,   6.51897006,   8.04867508,\n",
       "          9.57838009,  11.10808511,  12.63779012]),\n",
       " <a list of 10 Patch objects>)"
      ]
     },
     "execution_count": 11,
     "metadata": {},
     "output_type": "execute_result"
    },
    {
     "data": {
      "image/png": "[encoded data removed]",
      "text/plain": [
       "<matplotlib.figure.Figure at 0x7f6b305e75c0>"
      ]
     },
     "metadata": {},
     "output_type": "display_data"
    }
   ],
   "source": [
    "plt.hist(np.log(np.abs(train.item_price)))"
   ]
  },
  {
   "cell_type": "code",
   "execution_count": 12,
   "metadata": {},
   "outputs": [
    {
     "data": {
      "text/plain": [
       "array([-1.        ,  0.1       ,  0.0875    ,  0.07      ,  0.09      ,\n",
       "        0.2       ,  0.5       ,  0.99      ,  0.90871369])"
      ]
     },
     "execution_count": 12,
     "metadata": {},
     "output_type": "execute_result"
    }
   ],
   "source": [
    "# also there are values less than 1\n",
    "train[train.item_price < 1].item_price.unique()"
   ]
  },
  {
   "cell_type": "code",
   "execution_count": 13,
   "metadata": {},
   "outputs": [
    {
     "data": {
      "text/plain": [
       "4658"
      ]
     },
     "execution_count": 13,
     "metadata": {},
     "output_type": "execute_result"
    }
   ],
   "source": [
    "len(train[train.item_price < 1])"
   ]
  },
  {
   "cell_type": "markdown",
   "metadata": {},
   "source": [
    "## item_cnt_day"
   ]
  },
  {
   "cell_type": "code",
   "execution_count": 14,
   "metadata": {
    "collapsed": true
   },
   "outputs": [],
   "source": [
    "cnt_pos = train[train.item_cnt_day > 0].item_cnt_day.tolist()"
   ]
  },
  {
   "cell_type": "code",
   "execution_count": 15,
   "metadata": {},
   "outputs": [
    {
     "data": {
      "text/plain": [
       "2169.0"
      ]
     },
     "execution_count": 15,
     "metadata": {},
     "output_type": "execute_result"
    }
   ],
   "source": [
    "max(cnt_pos)"
   ]
  },
  {
   "cell_type": "code",
   "execution_count": 16,
   "metadata": {
    "collapsed": true
   },
   "outputs": [],
   "source": [
    "cnt_neg = np.abs(train[train.item_cnt_day < 0].item_cnt_day.tolist())"
   ]
  },
  {
   "cell_type": "code",
   "execution_count": 17,
   "metadata": {},
   "outputs": [
    {
     "data": {
      "text/plain": [
       "22.0"
      ]
     },
     "execution_count": 17,
     "metadata": {},
     "output_type": "execute_result"
    }
   ],
   "source": [
    "max(cnt_neg)"
   ]
  },
  {
   "cell_type": "code",
   "execution_count": 18,
   "metadata": {},
   "outputs": [
    {
     "data": {
      "text/plain": [
       "(array([  2.62937200e+06,   1.94201000e+05,   6.70350000e+04,\n",
       "          1.04740000e+04,   1.03950000e+04,   2.90300000e+03,\n",
       "          3.99700000e+03,   1.26300000e+03,   2.00100000e+03,\n",
       "          1.35400000e+03]),\n",
       " array([ -0.5 ,   1.05,   2.6 ,   4.15,   5.7 ,   7.25,   8.8 ,  10.35,\n",
       "         11.9 ,  13.45,  15.  ]),\n",
       " <a list of 10 Patch objects>)"
      ]
     },
     "execution_count": 18,
     "metadata": {},
     "output_type": "execute_result"
    },
    {
     "data": {
      "image/png": "[encoded data removed]",
      "text/plain": [
       "<matplotlib.figure.Figure at 0x7f6b2bb07a90>"
      ]
     },
     "metadata": {},
     "output_type": "display_data"
    }
   ],
   "source": [
    "plt.hist(cnt_pos, range=(-0.5, 15))"
   ]
  },
  {
   "cell_type": "code",
   "execution_count": 19,
   "metadata": {},
   "outputs": [
    {
     "data": {
      "text/plain": [
       "(array([  7.34400000e+03,   7.00000000e+00,   2.00000000e+00,\n",
       "          1.00000000e+00,   0.00000000e+00,   0.00000000e+00,\n",
       "          0.00000000e+00,   1.00000000e+00,   0.00000000e+00,\n",
       "          1.00000000e+00]),\n",
       " array([  1. ,   3.1,   5.2,   7.3,   9.4,  11.5,  13.6,  15.7,  17.8,\n",
       "         19.9,  22. ]),\n",
       " <a list of 10 Patch objects>)"
      ]
     },
     "execution_count": 19,
     "metadata": {},
     "output_type": "execute_result"
    },
    {
     "data": {
      "image/png": "[encoded data removed]",
      "text/plain": [
       "<matplotlib.figure.Figure at 0x7f6b2b99f358>"
      ]
     },
     "metadata": {},
     "output_type": "display_data"
    }
   ],
   "source": [
    "plt.hist(cnt_neg)"
   ]
  },
  {
   "cell_type": "code",
   "execution_count": 20,
   "metadata": {},
   "outputs": [
    {
     "data": {
      "text/plain": [
       "(array([  0.00000000e+00,   0.00000000e+00,   7.25200000e+03,\n",
       "          0.00000000e+00,   7.80000000e+01,   0.00000000e+00,\n",
       "          1.40000000e+01,   0.00000000e+00,   3.00000000e+00,\n",
       "          4.00000000e+00]),\n",
       " array([ 0. ,  0.5,  1. ,  1.5,  2. ,  2.5,  3. ,  3.5,  4. ,  4.5,  5. ]),\n",
       " <a list of 10 Patch objects>)"
      ]
     },
     "execution_count": 20,
     "metadata": {},
     "output_type": "execute_result"
    },
    {
     "data": {
      "image/png": "[encoded data removed]",
      "text/plain": [
       "<matplotlib.figure.Figure at 0x7f6b2bc7d668>"
      ]
     },
     "metadata": {},
     "output_type": "display_data"
    }
   ],
   "source": [
    "plt.hist(cnt_neg, range=(0, 5))"
   ]
  },
  {
   "cell_type": "markdown",
   "metadata": {},
   "source": [
    "## Index versus value"
   ]
  },
  {
   "cell_type": "code",
   "execution_count": 21,
   "metadata": {},
   "outputs": [
    {
     "data": {
      "text/plain": [
       "<module 'matplotlib.pyplot' from '/home/pc/anaconda2/envs/tf-cuda-py3/lib/python3.6/site-packages/matplotlib/pyplot.py'>"
      ]
     },
     "execution_count": 21,
     "metadata": {},
     "output_type": "execute_result"
    }
   ],
   "source": [
    "plt"
   ]
  },
  {
   "cell_type": "code",
   "execution_count": 22,
   "metadata": {},
   "outputs": [
    {
     "data": {
      "text/plain": [
       "[<matplotlib.lines.Line2D at 0x7f6b2b79c780>]"
      ]
     },
     "execution_count": 22,
     "metadata": {},
     "output_type": "execute_result"
    },
    {
     "data": {
      "image/png": "[encoded data removed]",
      "text/plain": [
       "<matplotlib.figure.Figure at 0x7f6b2b89e400>"
      ]
     },
     "metadata": {},
     "output_type": "display_data"
    }
   ],
   "source": [
    "plt.plot(train.item_cnt_day, \".\")"
   ]
  },
  {
   "cell_type": "code",
   "execution_count": 23,
   "metadata": {},
   "outputs": [
    {
     "data": {
      "text/plain": [
       "[<matplotlib.lines.Line2D at 0x7f6b2b726d68>]"
      ]
     },
     "execution_count": 23,
     "metadata": {},
     "output_type": "execute_result"
    },
    {
     "data": {
      "image/png": "[encoded data removed]",
      "text/plain": [
       "<matplotlib.figure.Figure at 0x7f6b2b7d7470>"
      ]
     },
     "metadata": {},
     "output_type": "display_data"
    }
   ],
   "source": [
    "plt.plot(train.item_price, \".\")"
   ]
  },
  {
   "cell_type": "code",
   "execution_count": 24,
   "metadata": {},
   "outputs": [
    {
     "data": {
      "text/html": [
       "<div>\n",
       "<style>\n",
       "    .dataframe thead tr:only-child th {\n",
       "        text-align: right;\n",
       "    }\n",
       "\n",
       "    .dataframe thead th {\n",
       "        text-align: left;\n",
       "    }\n",
       "\n",
       "    .dataframe tbody tr th {\n",
       "        vertical-align: top;\n",
       "    }\n",
       "</style>\n",
       "<table border=\"1\" class=\"dataframe\">\n",
       "  <thead>\n",
       "    <tr style=\"text-align: right;\">\n",
       "      <th></th>\n",
       "      <th>Unnamed: 0</th>\n",
       "      <th>date</th>\n",
       "      <th>date_block_num</th>\n",
       "      <th>shop_id</th>\n",
       "      <th>item_id</th>\n",
       "      <th>item_price</th>\n",
       "      <th>item_cnt_day</th>\n",
       "      <th>datetime</th>\n",
       "      <th>year</th>\n",
       "      <th>month</th>\n",
       "      <th>day</th>\n",
       "    </tr>\n",
       "  </thead>\n",
       "  <tbody>\n",
       "    <tr>\n",
       "      <th>1165576</th>\n",
       "      <td>1163158</td>\n",
       "      <td>13.12.2013</td>\n",
       "      <td>11</td>\n",
       "      <td>12</td>\n",
       "      <td>6066</td>\n",
       "      <td>307980.0</td>\n",
       "      <td>1.0</td>\n",
       "      <td>2013-12-13</td>\n",
       "      <td>2013</td>\n",
       "      <td>12</td>\n",
       "      <td>13</td>\n",
       "    </tr>\n",
       "  </tbody>\n",
       "</table>\n",
       "</div>"
      ],
      "text/plain": [
       "         Unnamed: 0        date  date_block_num  shop_id  item_id  item_price  \\\n",
       "1165576     1163158  13.12.2013              11       12     6066    307980.0   \n",
       "\n",
       "         item_cnt_day    datetime  year  month  day  \n",
       "1165576           1.0  2013-12-13  2013     12   13  "
      ]
     },
     "execution_count": 24,
     "metadata": {},
     "output_type": "execute_result"
    }
   ],
   "source": [
    "# outlier?\n",
    "train[train.item_price > 250000]"
   ]
  },
  {
   "cell_type": "code",
   "execution_count": 25,
   "metadata": {},
   "outputs": [
    {
     "data": {
      "text/plain": [
       "1165576    307980.0\n",
       "Name: item_price, dtype: float64"
      ]
     },
     "execution_count": 25,
     "metadata": {},
     "output_type": "execute_result"
    }
   ],
   "source": [
    "train[train.item_id == 6066].item_price"
   ]
  },
  {
   "cell_type": "code",
   "execution_count": 26,
   "metadata": {
    "collapsed": true
   },
   "outputs": [],
   "source": [
    "# drop outlier row\n",
    "train = train[train.item_price < 250000]"
   ]
  },
  {
   "cell_type": "code",
   "execution_count": 27,
   "metadata": {
    "collapsed": true
   },
   "outputs": [],
   "source": [
    "# color code accourding to the labels"
   ]
  },
  {
   "cell_type": "code",
   "execution_count": 28,
   "metadata": {
    "collapsed": true
   },
   "outputs": [],
   "source": [
    "X = train[[\"item_price\"]].copy()"
   ]
  },
  {
   "cell_type": "code",
   "execution_count": 29,
   "metadata": {
    "collapsed": true
   },
   "outputs": [],
   "source": [
    "y = train.shop_id.tolist()"
   ]
  },
  {
   "cell_type": "code",
   "execution_count": 30,
   "metadata": {},
   "outputs": [
    {
     "data": {
      "text/plain": [
       "<matplotlib.collections.PathCollection at 0x7f6b29d9cc18>"
      ]
     },
     "execution_count": 30,
     "metadata": {},
     "output_type": "execute_result"
    },
    {
     "data": {
      "image/png": "[encoded data removed]",
      "text/plain": [
       "<matplotlib.figure.Figure at 0x7f6b2b9d0fd0>"
      ]
     },
     "metadata": {},
     "output_type": "display_data"
    }
   ],
   "source": [
    "plt.scatter(range(len(X)), X, c=y)"
   ]
  },
  {
   "cell_type": "markdown",
   "metadata": {},
   "source": [
    "## Feature statistics"
   ]
  },
  {
   "cell_type": "code",
   "execution_count": 31,
   "metadata": {},
   "outputs": [
    {
     "data": {
      "text/html": [
       "<div>\n",
       "<style>\n",
       "    .dataframe thead tr:only-child th {\n",
       "        text-align: right;\n",
       "    }\n",
       "\n",
       "    .dataframe thead th {\n",
       "        text-align: left;\n",
       "    }\n",
       "\n",
       "    .dataframe tbody tr th {\n",
       "        vertical-align: top;\n",
       "    }\n",
       "</style>\n",
       "<table border=\"1\" class=\"dataframe\">\n",
       "  <thead>\n",
       "    <tr style=\"text-align: right;\">\n",
       "      <th></th>\n",
       "      <th>Unnamed: 0</th>\n",
       "      <th>date_block_num</th>\n",
       "      <th>shop_id</th>\n",
       "      <th>item_id</th>\n",
       "      <th>item_price</th>\n",
       "      <th>item_cnt_day</th>\n",
       "      <th>year</th>\n",
       "      <th>month</th>\n",
       "      <th>day</th>\n",
       "    </tr>\n",
       "  </thead>\n",
       "  <tbody>\n",
       "    <tr>\n",
       "      <th>count</th>\n",
       "      <td>2.935848e+06</td>\n",
       "      <td>2.935848e+06</td>\n",
       "      <td>2.935848e+06</td>\n",
       "      <td>2.935848e+06</td>\n",
       "      <td>2.935848e+06</td>\n",
       "      <td>2.935848e+06</td>\n",
       "      <td>2.935848e+06</td>\n",
       "      <td>2.935848e+06</td>\n",
       "      <td>2.935848e+06</td>\n",
       "    </tr>\n",
       "    <tr>\n",
       "      <th>mean</th>\n",
       "      <td>1.467924e+06</td>\n",
       "      <td>1.456991e+01</td>\n",
       "      <td>3.300174e+01</td>\n",
       "      <td>1.019723e+04</td>\n",
       "      <td>8.907486e+02</td>\n",
       "      <td>1.242641e+00</td>\n",
       "      <td>2.013777e+03</td>\n",
       "      <td>6.247715e+00</td>\n",
       "      <td>1.585267e+01</td>\n",
       "    </tr>\n",
       "    <tr>\n",
       "      <th>std</th>\n",
       "      <td>8.475069e+05</td>\n",
       "      <td>9.422989e+00</td>\n",
       "      <td>1.622697e+01</td>\n",
       "      <td>6.324298e+03</td>\n",
       "      <td>1.720490e+03</td>\n",
       "      <td>2.618835e+00</td>\n",
       "      <td>7.684790e-01</td>\n",
       "      <td>3.536218e+00</td>\n",
       "      <td>8.923484e+00</td>\n",
       "    </tr>\n",
       "    <tr>\n",
       "      <th>min</th>\n",
       "      <td>0.000000e+00</td>\n",
       "      <td>0.000000e+00</td>\n",
       "      <td>0.000000e+00</td>\n",
       "      <td>0.000000e+00</td>\n",
       "      <td>-1.000000e+00</td>\n",
       "      <td>-2.200000e+01</td>\n",
       "      <td>2.013000e+03</td>\n",
       "      <td>1.000000e+00</td>\n",
       "      <td>1.000000e+00</td>\n",
       "    </tr>\n",
       "    <tr>\n",
       "      <th>25%</th>\n",
       "      <td>7.339618e+05</td>\n",
       "      <td>7.000000e+00</td>\n",
       "      <td>2.200000e+01</td>\n",
       "      <td>4.476000e+03</td>\n",
       "      <td>2.490000e+02</td>\n",
       "      <td>1.000000e+00</td>\n",
       "      <td>2.013000e+03</td>\n",
       "      <td>3.000000e+00</td>\n",
       "      <td>8.000000e+00</td>\n",
       "    </tr>\n",
       "    <tr>\n",
       "      <th>50%</th>\n",
       "      <td>1.467924e+06</td>\n",
       "      <td>1.400000e+01</td>\n",
       "      <td>3.100000e+01</td>\n",
       "      <td>9.343000e+03</td>\n",
       "      <td>3.990000e+02</td>\n",
       "      <td>1.000000e+00</td>\n",
       "      <td>2.014000e+03</td>\n",
       "      <td>6.000000e+00</td>\n",
       "      <td>1.600000e+01</td>\n",
       "    </tr>\n",
       "    <tr>\n",
       "      <th>75%</th>\n",
       "      <td>2.201886e+06</td>\n",
       "      <td>2.300000e+01</td>\n",
       "      <td>4.700000e+01</td>\n",
       "      <td>1.568400e+04</td>\n",
       "      <td>9.990000e+02</td>\n",
       "      <td>1.000000e+00</td>\n",
       "      <td>2.014000e+03</td>\n",
       "      <td>9.000000e+00</td>\n",
       "      <td>2.400000e+01</td>\n",
       "    </tr>\n",
       "    <tr>\n",
       "      <th>max</th>\n",
       "      <td>2.935848e+06</td>\n",
       "      <td>3.300000e+01</td>\n",
       "      <td>5.900000e+01</td>\n",
       "      <td>2.216900e+04</td>\n",
       "      <td>5.920000e+04</td>\n",
       "      <td>2.169000e+03</td>\n",
       "      <td>2.015000e+03</td>\n",
       "      <td>1.200000e+01</td>\n",
       "      <td>3.100000e+01</td>\n",
       "    </tr>\n",
       "  </tbody>\n",
       "</table>\n",
       "</div>"
      ],
      "text/plain": [
       "         Unnamed: 0  date_block_num       shop_id       item_id    item_price  \\\n",
       "count  2.935848e+06    2.935848e+06  2.935848e+06  2.935848e+06  2.935848e+06   \n",
       "mean   1.467924e+06    1.456991e+01  3.300174e+01  1.019723e+04  8.907486e+02   \n",
       "std    8.475069e+05    9.422989e+00  1.622697e+01  6.324298e+03  1.720490e+03   \n",
       "min    0.000000e+00    0.000000e+00  0.000000e+00  0.000000e+00 -1.000000e+00   \n",
       "25%    7.339618e+05    7.000000e+00  2.200000e+01  4.476000e+03  2.490000e+02   \n",
       "50%    1.467924e+06    1.400000e+01  3.100000e+01  9.343000e+03  3.990000e+02   \n",
       "75%    2.201886e+06    2.300000e+01  4.700000e+01  1.568400e+04  9.990000e+02   \n",
       "max    2.935848e+06    3.300000e+01  5.900000e+01  2.216900e+04  5.920000e+04   \n",
       "\n",
       "       item_cnt_day          year         month           day  \n",
       "count  2.935848e+06  2.935848e+06  2.935848e+06  2.935848e+06  \n",
       "mean   1.242641e+00  2.013777e+03  6.247715e+00  1.585267e+01  \n",
       "std    2.618835e+00  7.684790e-01  3.536218e+00  8.923484e+00  \n",
       "min   -2.200000e+01  2.013000e+03  1.000000e+00  1.000000e+00  \n",
       "25%    1.000000e+00  2.013000e+03  3.000000e+00  8.000000e+00  \n",
       "50%    1.000000e+00  2.014000e+03  6.000000e+00  1.600000e+01  \n",
       "75%    1.000000e+00  2.014000e+03  9.000000e+00  2.400000e+01  \n",
       "max    2.169000e+03  2.015000e+03  1.200000e+01  3.100000e+01  "
      ]
     },
     "execution_count": 31,
     "metadata": {},
     "output_type": "execute_result"
    }
   ],
   "source": [
    "train.describe()"
   ]
  },
  {
   "cell_type": "markdown",
   "metadata": {
    "collapsed": true
   },
   "source": [
    "## Value Counts"
   ]
  },
  {
   "cell_type": "code",
   "execution_count": 32,
   "metadata": {},
   "outputs": [
    {
     "data": {
      "text/plain": [
       "[<matplotlib.lines.Line2D at 0x7f6b294cfc88>]"
      ]
     },
     "execution_count": 32,
     "metadata": {},
     "output_type": "execute_result"
    },
    {
     "data": {
      "image/png": "[encoded data removed]",
      "text/plain": [
       "<matplotlib.figure.Figure at 0x7f6b2b716748>"
      ]
     },
     "metadata": {},
     "output_type": "display_data"
    }
   ],
   "source": [
    "plt.plot(train.item_cnt_day.value_counts(), \".\")"
   ]
  },
  {
   "cell_type": "code",
   "execution_count": 33,
   "metadata": {},
   "outputs": [
    {
     "data": {
      "text/plain": [
       " 1.0      2629371\n",
       " 2.0       194201\n",
       " 3.0        47350\n",
       " 4.0        19685\n",
       " 5.0        10474\n",
       "-1.0         7252\n",
       " 6.0         6338\n",
       " 7.0         4057\n",
       " 8.0         2903\n",
       " 9.0         2177\n",
       " 10.0        1820\n",
       " 11.0        1263\n",
       " 12.0        1083\n",
       " 13.0         918\n",
       " 14.0         716\n",
       " 15.0         638\n",
       " 16.0         544\n",
       " 17.0         438\n",
       " 18.0         391\n",
       " 20.0         364\n",
       " 19.0         347\n",
       " 21.0         290\n",
       " 22.0         242\n",
       " 24.0         204\n",
       " 23.0         198\n",
       " 25.0         180\n",
       " 26.0         176\n",
       " 30.0         147\n",
       " 28.0         131\n",
       " 27.0         130\n",
       "           ...   \n",
       " 95.0           1\n",
       " 96.0           1\n",
       " 102.0          1\n",
       " 105.0          1\n",
       " 109.0          1\n",
       " 112.0          1\n",
       " 113.0          1\n",
       " 118.0          1\n",
       " 128.0          1\n",
       " 129.0          1\n",
       " 131.0          1\n",
       " 132.0          1\n",
       " 135.0          1\n",
       " 146.0          1\n",
       " 200.0          1\n",
       " 147.0          1\n",
       " 149.0          1\n",
       " 153.0          1\n",
       " 154.0          1\n",
       " 156.0          1\n",
       " 157.0          1\n",
       " 504.0          1\n",
       " 163.0          1\n",
       " 164.0          1\n",
       " 167.0          1\n",
       " 179.0          1\n",
       " 187.0          1\n",
       " 194.0          1\n",
       " 195.0          1\n",
       " 508.0          1\n",
       "Name: item_cnt_day, Length: 198, dtype: int64"
      ]
     },
     "execution_count": 33,
     "metadata": {},
     "output_type": "execute_result"
    }
   ],
   "source": [
    "train.item_cnt_day.value_counts()"
   ]
  },
  {
   "cell_type": "code",
   "execution_count": 34,
   "metadata": {},
   "outputs": [
    {
     "data": {
      "text/plain": [
       "[<matplotlib.lines.Line2D at 0x7f6b2944afd0>]"
      ]
     },
     "execution_count": 34,
     "metadata": {},
     "output_type": "execute_result"
    },
    {
     "data": {
      "image/png": "[encoded data removed]",
      "text/plain": [
       "<matplotlib.figure.Figure at 0x7f6b29d0f828>"
      ]
     },
     "metadata": {},
     "output_type": "display_data"
    }
   ],
   "source": [
    "plt.plot(train.item_price.value_counts(), \".\")"
   ]
  },
  {
   "cell_type": "code",
   "execution_count": 35,
   "metadata": {},
   "outputs": [
    {
     "data": {
      "text/plain": [
       "299.000000      291352\n",
       "399.000000      242603\n",
       "149.000000      218432\n",
       "199.000000      184044\n",
       "349.000000      101461\n",
       "599.000000       95673\n",
       "999.000000       82784\n",
       "799.000000       77882\n",
       "249.000000       77685\n",
       "699.000000       76493\n",
       "499.000000       73078\n",
       "899.000000       57156\n",
       "1199.000000      55448\n",
       "1999.000000      49672\n",
       "99.000000        48955\n",
       "2599.000000      47857\n",
       "1499.000000      47196\n",
       "449.000000       43205\n",
       "549.000000       39080\n",
       "5.000000         29702\n",
       "2999.000000      28929\n",
       "1299.000000      22381\n",
       "169.000000       20848\n",
       "1699.000000      18924\n",
       "1099.000000      17645\n",
       "749.000000       17351\n",
       "1799.000000      17292\n",
       "2499.000000      16713\n",
       "1399.000000      15694\n",
       "1599.000000      14293\n",
       "                 ...  \n",
       "4245.875000          1\n",
       "174.100000           1\n",
       "848.060000           1\n",
       "691.605263           1\n",
       "4239.000000          1\n",
       "449.166667           1\n",
       "1671.600000          1\n",
       "428.553333           1\n",
       "205.920000           1\n",
       "4319.000000          1\n",
       "1683.650000          1\n",
       "2673.137931          1\n",
       "455.666667           1\n",
       "452.333333           1\n",
       "231.530000           1\n",
       "791.010000           1\n",
       "393.486957           1\n",
       "711.538462           1\n",
       "4297.750000          1\n",
       "449.416667           1\n",
       "453.333333           1\n",
       "1870.428571          1\n",
       "789.010000           1\n",
       "789.260000           1\n",
       "42000.000000         1\n",
       "15400.450000         1\n",
       "449.666667           1\n",
       "1673.400000          1\n",
       "788.036364           1\n",
       "6429.250000          1\n",
       "Name: item_price, Length: 19992, dtype: int64"
      ]
     },
     "execution_count": 35,
     "metadata": {},
     "output_type": "execute_result"
    }
   ],
   "source": [
    "train.item_price.value_counts()"
   ]
  },
  {
   "cell_type": "markdown",
   "metadata": {},
   "source": [
    "## isnull"
   ]
  },
  {
   "cell_type": "code",
   "execution_count": 36,
   "metadata": {},
   "outputs": [
    {
     "data": {
      "text/plain": [
       "[<matplotlib.lines.Line2D at 0x7f6b293e0c18>]"
      ]
     },
     "execution_count": 36,
     "metadata": {},
     "output_type": "execute_result"
    },
    {
     "data": {
      "image/png": "[encoded data removed]",
      "text/plain": [
       "<matplotlib.figure.Figure at 0x7f6b294d7dd8>"
      ]
     },
     "metadata": {},
     "output_type": "display_data"
    }
   ],
   "source": [
    "plt.plot(train.item_cnt_day.isnull(), \".\")"
   ]
  },
  {
   "cell_type": "code",
   "execution_count": 37,
   "metadata": {},
   "outputs": [
    {
     "data": {
      "text/plain": [
       "[<matplotlib.lines.Line2D at 0x7f6b292fa828>]"
      ]
     },
     "execution_count": 37,
     "metadata": {},
     "output_type": "execute_result"
    },
    {
     "data": {
      "image/png": "[encoded data removed]",
      "text/plain": [
       "<matplotlib.figure.Figure at 0x7f6b2b833320>"
      ]
     },
     "metadata": {},
     "output_type": "display_data"
    }
   ],
   "source": [
    "plt.plot(train.item_price.isnull(), \".\")"
   ]
  },
  {
   "cell_type": "markdown",
   "metadata": {},
   "source": [
    "# Explore Feature Relations"
   ]
  },
  {
   "cell_type": "code",
   "execution_count": 38,
   "metadata": {},
   "outputs": [
    {
     "data": {
      "text/html": [
       "<div>\n",
       "<style>\n",
       "    .dataframe thead tr:only-child th {\n",
       "        text-align: right;\n",
       "    }\n",
       "\n",
       "    .dataframe thead th {\n",
       "        text-align: left;\n",
       "    }\n",
       "\n",
       "    .dataframe tbody tr th {\n",
       "        vertical-align: top;\n",
       "    }\n",
       "</style>\n",
       "<table border=\"1\" class=\"dataframe\">\n",
       "  <thead>\n",
       "    <tr style=\"text-align: right;\">\n",
       "      <th></th>\n",
       "      <th>Unnamed: 0</th>\n",
       "      <th>date</th>\n",
       "      <th>date_block_num</th>\n",
       "      <th>shop_id</th>\n",
       "      <th>item_id</th>\n",
       "      <th>item_price</th>\n",
       "      <th>item_cnt_day</th>\n",
       "      <th>datetime</th>\n",
       "      <th>year</th>\n",
       "      <th>month</th>\n",
       "      <th>day</th>\n",
       "    </tr>\n",
       "  </thead>\n",
       "  <tbody>\n",
       "    <tr>\n",
       "      <th>0</th>\n",
       "      <td>49800</td>\n",
       "      <td>01.01.2013</td>\n",
       "      <td>0</td>\n",
       "      <td>18</td>\n",
       "      <td>5823</td>\n",
       "      <td>2500.0</td>\n",
       "      <td>1.0</td>\n",
       "      <td>2013-01-01</td>\n",
       "      <td>2013</td>\n",
       "      <td>1</td>\n",
       "      <td>1</td>\n",
       "    </tr>\n",
       "    <tr>\n",
       "      <th>1</th>\n",
       "      <td>29784</td>\n",
       "      <td>01.01.2013</td>\n",
       "      <td>0</td>\n",
       "      <td>27</td>\n",
       "      <td>5573</td>\n",
       "      <td>849.0</td>\n",
       "      <td>1.0</td>\n",
       "      <td>2013-01-01</td>\n",
       "      <td>2013</td>\n",
       "      <td>1</td>\n",
       "      <td>1</td>\n",
       "    </tr>\n",
       "    <tr>\n",
       "      <th>2</th>\n",
       "      <td>35476</td>\n",
       "      <td>01.01.2013</td>\n",
       "      <td>0</td>\n",
       "      <td>7</td>\n",
       "      <td>1006</td>\n",
       "      <td>399.0</td>\n",
       "      <td>1.0</td>\n",
       "      <td>2013-01-01</td>\n",
       "      <td>2013</td>\n",
       "      <td>1</td>\n",
       "      <td>1</td>\n",
       "    </tr>\n",
       "    <tr>\n",
       "      <th>3</th>\n",
       "      <td>8330</td>\n",
       "      <td>01.01.2013</td>\n",
       "      <td>0</td>\n",
       "      <td>19</td>\n",
       "      <td>17707</td>\n",
       "      <td>899.0</td>\n",
       "      <td>1.0</td>\n",
       "      <td>2013-01-01</td>\n",
       "      <td>2013</td>\n",
       "      <td>1</td>\n",
       "      <td>1</td>\n",
       "    </tr>\n",
       "    <tr>\n",
       "      <th>4</th>\n",
       "      <td>57384</td>\n",
       "      <td>01.01.2013</td>\n",
       "      <td>0</td>\n",
       "      <td>14</td>\n",
       "      <td>19548</td>\n",
       "      <td>149.0</td>\n",
       "      <td>1.0</td>\n",
       "      <td>2013-01-01</td>\n",
       "      <td>2013</td>\n",
       "      <td>1</td>\n",
       "      <td>1</td>\n",
       "    </tr>\n",
       "  </tbody>\n",
       "</table>\n",
       "</div>"
      ],
      "text/plain": [
       "   Unnamed: 0        date  date_block_num  shop_id  item_id  item_price  \\\n",
       "0       49800  01.01.2013               0       18     5823      2500.0   \n",
       "1       29784  01.01.2013               0       27     5573       849.0   \n",
       "2       35476  01.01.2013               0        7     1006       399.0   \n",
       "3        8330  01.01.2013               0       19    17707       899.0   \n",
       "4       57384  01.01.2013               0       14    19548       149.0   \n",
       "\n",
       "   item_cnt_day    datetime  year  month  day  \n",
       "0           1.0  2013-01-01  2013      1    1  \n",
       "1           1.0  2013-01-01  2013      1    1  \n",
       "2           1.0  2013-01-01  2013      1    1  \n",
       "3           1.0  2013-01-01  2013      1    1  \n",
       "4           1.0  2013-01-01  2013      1    1  "
      ]
     },
     "execution_count": 38,
     "metadata": {},
     "output_type": "execute_result"
    }
   ],
   "source": [
    "train.head()"
   ]
  },
  {
   "cell_type": "markdown",
   "metadata": {},
   "source": [
    "## Scatter plots"
   ]
  },
  {
   "cell_type": "code",
   "execution_count": 39,
   "metadata": {},
   "outputs": [
    {
     "data": {
      "text/plain": [
       "<matplotlib.collections.PathCollection at 0x7f6b29299748>"
      ]
     },
     "execution_count": 39,
     "metadata": {},
     "output_type": "execute_result"
    },
    {
     "data": {
      "image/png": "[encoded data removed]",
      "text/plain": [
       "<matplotlib.figure.Figure at 0x7f6b2939b208>"
      ]
     },
     "metadata": {},
     "output_type": "display_data"
    }
   ],
   "source": [
    "plt.scatter(train.item_cnt_day, train.item_price)"
   ]
  },
  {
   "cell_type": "code",
   "execution_count": 40,
   "metadata": {
    "collapsed": true
   },
   "outputs": [],
   "source": [
    "# all features\n",
    "#pd.plotting.scatter_matrix(train) # no need here"
   ]
  },
  {
   "cell_type": "markdown",
   "metadata": {},
   "source": [
    "## Correlation matrices"
   ]
  },
  {
   "cell_type": "code",
   "execution_count": 41,
   "metadata": {},
   "outputs": [
    {
     "data": {
      "text/html": [
       "<div>\n",
       "<style>\n",
       "    .dataframe thead tr:only-child th {\n",
       "        text-align: right;\n",
       "    }\n",
       "\n",
       "    .dataframe thead th {\n",
       "        text-align: left;\n",
       "    }\n",
       "\n",
       "    .dataframe tbody tr th {\n",
       "        vertical-align: top;\n",
       "    }\n",
       "</style>\n",
       "<table border=\"1\" class=\"dataframe\">\n",
       "  <thead>\n",
       "    <tr style=\"text-align: right;\">\n",
       "      <th></th>\n",
       "      <th>Unnamed: 0</th>\n",
       "      <th>date_block_num</th>\n",
       "      <th>shop_id</th>\n",
       "      <th>item_id</th>\n",
       "      <th>item_price</th>\n",
       "      <th>item_cnt_day</th>\n",
       "      <th>year</th>\n",
       "      <th>month</th>\n",
       "      <th>day</th>\n",
       "    </tr>\n",
       "  </thead>\n",
       "  <tbody>\n",
       "    <tr>\n",
       "      <th>Unnamed: 0</th>\n",
       "      <td>1.000000</td>\n",
       "      <td>0.996305</td>\n",
       "      <td>0.023267</td>\n",
       "      <td>0.008443</td>\n",
       "      <td>0.096382</td>\n",
       "      <td>0.009502</td>\n",
       "      <td>0.925056</td>\n",
       "      <td>0.242503</td>\n",
       "      <td>0.020078</td>\n",
       "    </tr>\n",
       "    <tr>\n",
       "      <th>date_block_num</th>\n",
       "      <td>0.996305</td>\n",
       "      <td>1.000000</td>\n",
       "      <td>0.019273</td>\n",
       "      <td>0.009356</td>\n",
       "      <td>0.095547</td>\n",
       "      <td>0.009402</td>\n",
       "      <td>0.928280</td>\n",
       "      <td>0.243939</td>\n",
       "      <td>0.018890</td>\n",
       "    </tr>\n",
       "    <tr>\n",
       "      <th>shop_id</th>\n",
       "      <td>0.023267</td>\n",
       "      <td>0.019273</td>\n",
       "      <td>1.000000</td>\n",
       "      <td>0.029396</td>\n",
       "      <td>-0.024085</td>\n",
       "      <td>-0.005230</td>\n",
       "      <td>0.011804</td>\n",
       "      <td>0.020575</td>\n",
       "      <td>0.001767</td>\n",
       "    </tr>\n",
       "    <tr>\n",
       "      <th>item_id</th>\n",
       "      <td>0.008443</td>\n",
       "      <td>0.009356</td>\n",
       "      <td>0.029396</td>\n",
       "      <td>1.000000</td>\n",
       "      <td>-0.134790</td>\n",
       "      <td>0.016650</td>\n",
       "      <td>0.010339</td>\n",
       "      <td>-0.002033</td>\n",
       "      <td>-0.002784</td>\n",
       "    </tr>\n",
       "    <tr>\n",
       "      <th>item_price</th>\n",
       "      <td>0.096382</td>\n",
       "      <td>0.095547</td>\n",
       "      <td>-0.024085</td>\n",
       "      <td>-0.134790</td>\n",
       "      <td>1.000000</td>\n",
       "      <td>0.011263</td>\n",
       "      <td>0.080688</td>\n",
       "      <td>0.044188</td>\n",
       "      <td>0.014829</td>\n",
       "    </tr>\n",
       "    <tr>\n",
       "      <th>item_cnt_day</th>\n",
       "      <td>0.009502</td>\n",
       "      <td>0.009402</td>\n",
       "      <td>-0.005230</td>\n",
       "      <td>0.016650</td>\n",
       "      <td>0.011263</td>\n",
       "      <td>1.000000</td>\n",
       "      <td>0.002699</td>\n",
       "      <td>0.018014</td>\n",
       "      <td>0.005218</td>\n",
       "    </tr>\n",
       "    <tr>\n",
       "      <th>year</th>\n",
       "      <td>0.925056</td>\n",
       "      <td>0.928280</td>\n",
       "      <td>0.011804</td>\n",
       "      <td>0.010339</td>\n",
       "      <td>0.080688</td>\n",
       "      <td>0.002699</td>\n",
       "      <td>1.000000</td>\n",
       "      <td>-0.134203</td>\n",
       "      <td>-0.015505</td>\n",
       "    </tr>\n",
       "    <tr>\n",
       "      <th>month</th>\n",
       "      <td>0.242503</td>\n",
       "      <td>0.243939</td>\n",
       "      <td>0.020575</td>\n",
       "      <td>-0.002033</td>\n",
       "      <td>0.044188</td>\n",
       "      <td>0.018014</td>\n",
       "      <td>-0.134203</td>\n",
       "      <td>1.000000</td>\n",
       "      <td>0.090770</td>\n",
       "    </tr>\n",
       "    <tr>\n",
       "      <th>day</th>\n",
       "      <td>0.020078</td>\n",
       "      <td>0.018890</td>\n",
       "      <td>0.001767</td>\n",
       "      <td>-0.002784</td>\n",
       "      <td>0.014829</td>\n",
       "      <td>0.005218</td>\n",
       "      <td>-0.015505</td>\n",
       "      <td>0.090770</td>\n",
       "      <td>1.000000</td>\n",
       "    </tr>\n",
       "  </tbody>\n",
       "</table>\n",
       "</div>"
      ],
      "text/plain": [
       "                Unnamed: 0  date_block_num   shop_id   item_id  item_price  \\\n",
       "Unnamed: 0        1.000000        0.996305  0.023267  0.008443    0.096382   \n",
       "date_block_num    0.996305        1.000000  0.019273  0.009356    0.095547   \n",
       "shop_id           0.023267        0.019273  1.000000  0.029396   -0.024085   \n",
       "item_id           0.008443        0.009356  0.029396  1.000000   -0.134790   \n",
       "item_price        0.096382        0.095547 -0.024085 -0.134790    1.000000   \n",
       "item_cnt_day      0.009502        0.009402 -0.005230  0.016650    0.011263   \n",
       "year              0.925056        0.928280  0.011804  0.010339    0.080688   \n",
       "month             0.242503        0.243939  0.020575 -0.002033    0.044188   \n",
       "day               0.020078        0.018890  0.001767 -0.002784    0.014829   \n",
       "\n",
       "                item_cnt_day      year     month       day  \n",
       "Unnamed: 0          0.009502  0.925056  0.242503  0.020078  \n",
       "date_block_num      0.009402  0.928280  0.243939  0.018890  \n",
       "shop_id            -0.005230  0.011804  0.020575  0.001767  \n",
       "item_id             0.016650  0.010339 -0.002033 -0.002784  \n",
       "item_price          0.011263  0.080688  0.044188  0.014829  \n",
       "item_cnt_day        1.000000  0.002699  0.018014  0.005218  \n",
       "year                0.002699  1.000000 -0.134203 -0.015505  \n",
       "month               0.018014 -0.134203  1.000000  0.090770  \n",
       "day                 0.005218 -0.015505  0.090770  1.000000  "
      ]
     },
     "execution_count": 41,
     "metadata": {},
     "output_type": "execute_result"
    }
   ],
   "source": [
    "train.corr()"
   ]
  },
  {
   "cell_type": "code",
   "execution_count": 42,
   "metadata": {},
   "outputs": [
    {
     "data": {
      "text/plain": [
       "<matplotlib.image.AxesImage at 0x7f6b291af400>"
      ]
     },
     "execution_count": 42,
     "metadata": {},
     "output_type": "execute_result"
    },
    {
     "data": {
      "image/png": "[encoded data removed]",
      "text/plain": [
       "<matplotlib.figure.Figure at 0x7f6b2946d470>"
      ]
     },
     "metadata": {},
     "output_type": "display_data"
    }
   ],
   "source": [
    "plt.matshow(train.corr())"
   ]
  },
  {
   "cell_type": "code",
   "execution_count": 43,
   "metadata": {},
   "outputs": [
    {
     "data": {
      "text/plain": [
       "<matplotlib.image.AxesImage at 0x7f6ae7f8b550>"
      ]
     },
     "execution_count": 43,
     "metadata": {},
     "output_type": "execute_result"
    },
    {
     "data": {
      "image/png": "[encoded data removed]",
      "text/plain": [
       "<matplotlib.figure.Figure at 0x7f6b292a8fd0>"
      ]
     },
     "metadata": {},
     "output_type": "display_data"
    }
   ],
   "source": [
    "plt.matshow(train.corr(\"kendall\"))"
   ]
  },
  {
   "cell_type": "code",
   "execution_count": 44,
   "metadata": {},
   "outputs": [
    {
     "data": {
      "text/plain": [
       "<matplotlib.image.AxesImage at 0x7f6ae7ec6748>"
      ]
     },
     "execution_count": 44,
     "metadata": {},
     "output_type": "execute_result"
    },
    {
     "data": {
      "image/png": "[encoded data removed]",
      "text/plain": [
       "<matplotlib.figure.Figure at 0x7f6ae7f53278>"
      ]
     },
     "metadata": {},
     "output_type": "display_data"
    }
   ],
   "source": [
    "plt.matshow(train.corr(\"spearman\"))"
   ]
  },
  {
   "cell_type": "code",
   "execution_count": 45,
   "metadata": {
    "collapsed": true
   },
   "outputs": [],
   "source": [
    "# save train set v2 (without that outlier row)\n",
    "%mkdir -p data/v2\n",
    "train.to_csv(\"data/v2/train.csv\")"
   ]
  }
 ],
 "metadata": {
  "kernelspec": {
   "display_name": "Python 3",
   "language": "python",
   "name": "python3"
  },
  "language_info": {
   "codemirror_mode": {
    "name": "ipython",
    "version": 3
   },
   "file_extension": ".py",
   "mimetype": "text/x-python",
   "name": "python",
   "nbconvert_exporter": "python",
   "pygments_lexer": "ipython3",
   "version": "3.6.1"
  }
 },
 "nbformat": 4,
 "nbformat_minor": 2
}
